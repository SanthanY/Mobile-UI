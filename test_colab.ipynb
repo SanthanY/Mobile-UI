{
  "nbformat": 4,
  "nbformat_minor": 0,
  "metadata": {
    "colab": {
      "provenance": [],
      "toc_visible": true,
      "authorship_tag": "ABX9TyPO1OK6Wz8fzl1nEnti1cg4",
      "include_colab_link": true
    },
    "kernelspec": {
      "name": "python3",
      "display_name": "Python 3"
    },
    "language_info": {
      "name": "python"
    }
  },
  "cells": [
    {
      "cell_type": "markdown",
      "metadata": {
        "id": "view-in-github",
        "colab_type": "text"
      },
      "source": [
        "<a href=\"https://colab.research.google.com/github/SanthanY/Mobile-UI/blob/master/test_colab.ipynb\" target=\"_parent\"><img src=\"https://colab.research.google.com/assets/colab-badge.svg\" alt=\"Open In Colab\"/></a>"
      ]
    },
    {
      "cell_type": "markdown",
      "source": [
        "### section 1"
      ],
      "metadata": {
        "id": "sQ4uaKcd_HpI"
      }
    },
    {
      "cell_type": "code",
      "source": [
        "print('hellow worl')"
      ],
      "metadata": {
        "id": "ut_bCF9P_JNz"
      },
      "execution_count": null,
      "outputs": []
    },
    {
      "cell_type": "markdown",
      "source": [
        "### section 2"
      ],
      "metadata": {
        "id": "10xKGqZe_Kc0"
      }
    },
    {
      "cell_type": "code",
      "source": [
        "print('hellow worl')"
      ],
      "metadata": {
        "id": "eSaag-G8_PPU"
      },
      "execution_count": null,
      "outputs": []
    },
    {
      "cell_type": "markdown",
      "source": [
        "##### section a"
      ],
      "metadata": {
        "id": "1PPfZtHp_Xpw"
      }
    },
    {
      "cell_type": "code",
      "source": [
        "print('hellow worl')"
      ],
      "metadata": {
        "id": "b5CqXAWt_bau"
      },
      "execution_count": null,
      "outputs": []
    }
  ]
}